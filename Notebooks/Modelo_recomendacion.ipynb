{
 "cells": [
  {
   "cell_type": "markdown",
   "metadata": {},
   "source": [
    "# Creacion del dataframe para el modelo"
   ]
  },
  {
   "cell_type": "code",
   "execution_count": 16,
   "metadata": {},
   "outputs": [],
   "source": [
    "import pandas as pd\n",
    "from sklearn.feature_extraction.text import TfidfVectorizer\n",
    "from sklearn.neighbors import NearestNeighbors\n",
    "import re\n"
   ]
  },
  {
   "cell_type": "code",
   "execution_count": 9,
   "metadata": {},
   "outputs": [],
   "source": [
    "dfgames = pd.read_csv(r'C:\\Users\\user\\OneDrive\\Escritorio\\SOYHENRY\\Curso Data Science\\PI1\\dfgames.csv')"
   ]
  },
  {
   "cell_type": "code",
   "execution_count": 10,
   "metadata": {},
   "outputs": [
    {
     "data": {
      "text/plain": [
       "Index(['publisher', 'genres', 'title', 'release_date', 'tags', 'specs',\n",
       "       'price', 'early_access', 'id', 'developer', 'year'],\n",
       "      dtype='object')"
      ]
     },
     "execution_count": 10,
     "metadata": {},
     "output_type": "execute_result"
    }
   ],
   "source": [
    "dfgames.columns"
   ]
  },
  {
   "cell_type": "code",
   "execution_count": 11,
   "metadata": {},
   "outputs": [],
   "source": [
    "## El modelo se hace en base a las columnas tags(etiquetas), specs(especificaciones), y genres(genero).\n",
    "todrop = ['publisher','release_date','price','early_access','year','developer']\n",
    "dfgames.drop(columns = todrop, inplace= True)"
   ]
  },
  {
   "cell_type": "code",
   "execution_count": 12,
   "metadata": {},
   "outputs": [
    {
     "data": {
      "text/html": [
       "<div>\n",
       "<style scoped>\n",
       "    .dataframe tbody tr th:only-of-type {\n",
       "        vertical-align: middle;\n",
       "    }\n",
       "\n",
       "    .dataframe tbody tr th {\n",
       "        vertical-align: top;\n",
       "    }\n",
       "\n",
       "    .dataframe thead th {\n",
       "        text-align: right;\n",
       "    }\n",
       "</style>\n",
       "<table border=\"1\" class=\"dataframe\">\n",
       "  <thead>\n",
       "    <tr style=\"text-align: right;\">\n",
       "      <th></th>\n",
       "      <th>genres</th>\n",
       "      <th>title</th>\n",
       "      <th>tags</th>\n",
       "      <th>specs</th>\n",
       "      <th>id</th>\n",
       "    </tr>\n",
       "  </thead>\n",
       "  <tbody>\n",
       "    <tr>\n",
       "      <th>0</th>\n",
       "      <td>['Action', 'Casual', 'Indie', 'Simulation', 'S...</td>\n",
       "      <td>Lost Summoner Kitty</td>\n",
       "      <td>['Strategy', 'Action', 'Indie', 'Casual', 'Sim...</td>\n",
       "      <td>['Single-player']</td>\n",
       "      <td>761140.0</td>\n",
       "    </tr>\n",
       "    <tr>\n",
       "      <th>1</th>\n",
       "      <td>['Free to Play', 'Indie', 'RPG', 'Strategy']</td>\n",
       "      <td>Ironbound</td>\n",
       "      <td>['Free to Play', 'Strategy', 'Indie', 'RPG', '...</td>\n",
       "      <td>['Single-player', 'Multi-player', 'Online Mult...</td>\n",
       "      <td>643980.0</td>\n",
       "    </tr>\n",
       "    <tr>\n",
       "      <th>2</th>\n",
       "      <td>['Casual', 'Free to Play', 'Indie', 'Simulatio...</td>\n",
       "      <td>Real Pool 3D - Poolians</td>\n",
       "      <td>['Free to Play', 'Simulation', 'Sports', 'Casu...</td>\n",
       "      <td>['Single-player', 'Multi-player', 'Online Mult...</td>\n",
       "      <td>670290.0</td>\n",
       "    </tr>\n",
       "    <tr>\n",
       "      <th>3</th>\n",
       "      <td>['Action', 'Adventure', 'Casual']</td>\n",
       "      <td>弹炸人2222</td>\n",
       "      <td>['Action', 'Adventure', 'Casual']</td>\n",
       "      <td>['Single-player']</td>\n",
       "      <td>767400.0</td>\n",
       "    </tr>\n",
       "    <tr>\n",
       "      <th>4</th>\n",
       "      <td>['Action', 'Adventure', 'Simulation']</td>\n",
       "      <td>Battle Royale Trainer</td>\n",
       "      <td>['Action', 'Adventure', 'Simulation', 'FPS', '...</td>\n",
       "      <td>['Single-player', 'Steam Achievements']</td>\n",
       "      <td>772540.0</td>\n",
       "    </tr>\n",
       "    <tr>\n",
       "      <th>...</th>\n",
       "      <td>...</td>\n",
       "      <td>...</td>\n",
       "      <td>...</td>\n",
       "      <td>...</td>\n",
       "      <td>...</td>\n",
       "    </tr>\n",
       "    <tr>\n",
       "      <th>29777</th>\n",
       "      <td>['Action', 'Adventure', 'Casual', 'Indie']</td>\n",
       "      <td>Kebab it Up!</td>\n",
       "      <td>['Action', 'Indie', 'Casual', 'Violent', 'Adve...</td>\n",
       "      <td>['Single-player', 'Steam Achievements', 'Steam...</td>\n",
       "      <td>745400.0</td>\n",
       "    </tr>\n",
       "    <tr>\n",
       "      <th>29778</th>\n",
       "      <td>['Casual', 'Indie', 'Simulation', 'Strategy']</td>\n",
       "      <td>Colony On Mars</td>\n",
       "      <td>['Strategy', 'Indie', 'Casual', 'Simulation']</td>\n",
       "      <td>['Single-player', 'Steam Achievements']</td>\n",
       "      <td>773640.0</td>\n",
       "    </tr>\n",
       "    <tr>\n",
       "      <th>29779</th>\n",
       "      <td>['Casual', 'Indie', 'Strategy']</td>\n",
       "      <td>LOGistICAL: South Africa</td>\n",
       "      <td>['Strategy', 'Indie', 'Casual']</td>\n",
       "      <td>['Single-player', 'Steam Achievements', 'Steam...</td>\n",
       "      <td>733530.0</td>\n",
       "    </tr>\n",
       "    <tr>\n",
       "      <th>29780</th>\n",
       "      <td>['Indie', 'Racing', 'Simulation']</td>\n",
       "      <td>Russian Roads</td>\n",
       "      <td>['Indie', 'Simulation', 'Racing']</td>\n",
       "      <td>['Single-player', 'Steam Achievements', 'Steam...</td>\n",
       "      <td>610660.0</td>\n",
       "    </tr>\n",
       "    <tr>\n",
       "      <th>29781</th>\n",
       "      <td>['Casual', 'Indie']</td>\n",
       "      <td>EXIT 2 - Directions</td>\n",
       "      <td>['Indie', 'Casual', 'Puzzle', 'Singleplayer', ...</td>\n",
       "      <td>['Single-player', 'Steam Achievements', 'Steam...</td>\n",
       "      <td>658870.0</td>\n",
       "    </tr>\n",
       "  </tbody>\n",
       "</table>\n",
       "<p>29782 rows × 5 columns</p>\n",
       "</div>"
      ],
      "text/plain": [
       "                                                  genres  \\\n",
       "0      ['Action', 'Casual', 'Indie', 'Simulation', 'S...   \n",
       "1           ['Free to Play', 'Indie', 'RPG', 'Strategy']   \n",
       "2      ['Casual', 'Free to Play', 'Indie', 'Simulatio...   \n",
       "3                      ['Action', 'Adventure', 'Casual']   \n",
       "4                  ['Action', 'Adventure', 'Simulation']   \n",
       "...                                                  ...   \n",
       "29777         ['Action', 'Adventure', 'Casual', 'Indie']   \n",
       "29778      ['Casual', 'Indie', 'Simulation', 'Strategy']   \n",
       "29779                    ['Casual', 'Indie', 'Strategy']   \n",
       "29780                  ['Indie', 'Racing', 'Simulation']   \n",
       "29781                                ['Casual', 'Indie']   \n",
       "\n",
       "                          title  \\\n",
       "0           Lost Summoner Kitty   \n",
       "1                     Ironbound   \n",
       "2       Real Pool 3D - Poolians   \n",
       "3                       弹炸人2222   \n",
       "4         Battle Royale Trainer   \n",
       "...                         ...   \n",
       "29777              Kebab it Up!   \n",
       "29778            Colony On Mars   \n",
       "29779  LOGistICAL: South Africa   \n",
       "29780             Russian Roads   \n",
       "29781       EXIT 2 - Directions   \n",
       "\n",
       "                                                    tags  \\\n",
       "0      ['Strategy', 'Action', 'Indie', 'Casual', 'Sim...   \n",
       "1      ['Free to Play', 'Strategy', 'Indie', 'RPG', '...   \n",
       "2      ['Free to Play', 'Simulation', 'Sports', 'Casu...   \n",
       "3                      ['Action', 'Adventure', 'Casual']   \n",
       "4      ['Action', 'Adventure', 'Simulation', 'FPS', '...   \n",
       "...                                                  ...   \n",
       "29777  ['Action', 'Indie', 'Casual', 'Violent', 'Adve...   \n",
       "29778      ['Strategy', 'Indie', 'Casual', 'Simulation']   \n",
       "29779                    ['Strategy', 'Indie', 'Casual']   \n",
       "29780                  ['Indie', 'Simulation', 'Racing']   \n",
       "29781  ['Indie', 'Casual', 'Puzzle', 'Singleplayer', ...   \n",
       "\n",
       "                                                   specs        id  \n",
       "0                                      ['Single-player']  761140.0  \n",
       "1      ['Single-player', 'Multi-player', 'Online Mult...  643980.0  \n",
       "2      ['Single-player', 'Multi-player', 'Online Mult...  670290.0  \n",
       "3                                      ['Single-player']  767400.0  \n",
       "4                ['Single-player', 'Steam Achievements']  772540.0  \n",
       "...                                                  ...       ...  \n",
       "29777  ['Single-player', 'Steam Achievements', 'Steam...  745400.0  \n",
       "29778            ['Single-player', 'Steam Achievements']  773640.0  \n",
       "29779  ['Single-player', 'Steam Achievements', 'Steam...  733530.0  \n",
       "29780  ['Single-player', 'Steam Achievements', 'Steam...  610660.0  \n",
       "29781  ['Single-player', 'Steam Achievements', 'Steam...  658870.0  \n",
       "\n",
       "[29782 rows x 5 columns]"
      ]
     },
     "execution_count": 12,
     "metadata": {},
     "output_type": "execute_result"
    }
   ],
   "source": [
    "dfgames"
   ]
  },
  {
   "cell_type": "code",
   "execution_count": 21,
   "metadata": {},
   "outputs": [],
   "source": [
    "# Concatenar las columnas de texto para la representación\n",
    "dfgames['description'] = dfgames['genres'] + ' ' + dfgames['specs']+ ' ' + dfgames['tags'] + dfgames['title']"
   ]
  },
  {
   "cell_type": "code",
   "execution_count": 23,
   "metadata": {},
   "outputs": [],
   "source": [
    "# Seleccionar las columnas 'description' y 'title'\n",
    "dfmodelo = dfgames[['description', 'title']]\n"
   ]
  },
  {
   "cell_type": "code",
   "execution_count": 32,
   "metadata": {},
   "outputs": [],
   "source": [
    "dfmodelo.to_csv('dfmodelo.csv')"
   ]
  },
  {
   "cell_type": "code",
   "execution_count": 29,
   "metadata": {},
   "outputs": [],
   "source": [
    "def normalize_title(title):\n",
    "    return re.sub(r'[^a-zA-Z0-9 ]', ' ', title).lower().strip()\n",
    "\n",
    "def recommend_games(raw_title):\n",
    "    # Normalizar el título ingresado\n",
    "    title = normalize_title(raw_title)\n",
    "    \n",
    "    if 'normalized_title' not in dfmodelo.columns:\n",
    "        dfmodelo.loc[:, 'normalized_title'] = dfmodelo['title'].apply(normalize_title)\n",
    "\n",
    "    if title not in dfmodelo['normalized_title'].values:\n",
    "        print(f\"El juego '{raw_title}' no fue encontrado en la base de datos.\")\n",
    "        return\n",
    "    \n",
    "    # Usar TF-IDF para convertir el texto en vectores\n",
    "    tfidf_vectorizer = TfidfVectorizer()\n",
    "    tfidf_matrix = tfidf_vectorizer.fit_transform(dfgames['description'])\n",
    "\n",
    "    # Crear el modelo de vecinos más cercanos\n",
    "    knn = NearestNeighbors(n_neighbors=6, metric='cosine', algorithm='brute')  \n",
    "    knn.fit(tfidf_matrix)\n",
    "\n",
    "    game_index = dfmodelo[dfmodelo['normalized_title'] == title].index[0]\n",
    "    \n",
    "    distances, indices = knn.kneighbors(tfidf_matrix[game_index], n_neighbors=6)  \n",
    "    \n",
    "    recommended_games = dfmodelo.iloc[indices.flatten()[1:]]  \n",
    "    \n",
    "    print(f\"Las recomendaciones para '{raw_title}' son:\")\n",
    "    for i, (index, row) in enumerate(recommended_games.iterrows(), start=1):\n",
    "        print(f\"{i}: {row['title']}\")\n",
    "    return"
   ]
  },
  {
   "cell_type": "code",
   "execution_count": 30,
   "metadata": {},
   "outputs": [
    {
     "name": "stdout",
     "output_type": "stream",
     "text": [
      "Las recomendaciones para 'Ironbound' son:\n",
      "1: Infinity Wars: Animated Trading Card Game\n",
      "2: Chronicle: RuneScape Legends\n",
      "3: Faeria\n",
      "4: Kingdoms CCG\n",
      "5: HEX: Shards of Fate\n"
     ]
    }
   ],
   "source": [
    "#Ejemplos de recomendacion\n",
    "recommend_games('Ironbound')"
   ]
  },
  {
   "cell_type": "code",
   "execution_count": 31,
   "metadata": {},
   "outputs": [
    {
     "name": "stdout",
     "output_type": "stream",
     "text": [
      "Las recomendaciones para 'The first thrust of God' son:\n",
      "1: The first thrust of God - All Aircrafts\n",
      "2: Salt Thrust\n",
      "3: The Sandbox\n",
      "4: Mitosis\n",
      "5: God Simulator\n"
     ]
    }
   ],
   "source": [
    "recommend_games('The first thrust of God')"
   ]
  },
  {
   "cell_type": "code",
   "execution_count": null,
   "metadata": {},
   "outputs": [],
   "source": []
  }
 ],
 "metadata": {
  "kernelspec": {
   "display_name": "Python 3",
   "language": "python",
   "name": "python3"
  },
  "language_info": {
   "codemirror_mode": {
    "name": "ipython",
    "version": 3
   },
   "file_extension": ".py",
   "mimetype": "text/x-python",
   "name": "python",
   "nbconvert_exporter": "python",
   "pygments_lexer": "ipython3",
   "version": "3.10.11"
  }
 },
 "nbformat": 4,
 "nbformat_minor": 2
}

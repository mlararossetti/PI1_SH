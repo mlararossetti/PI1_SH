{
 "cells": [
  {
   "cell_type": "markdown",
   "metadata": {},
   "source": [
    "# FUNCIONES"
   ]
  },
  {
   "cell_type": "code",
   "execution_count": 1,
   "metadata": {},
   "outputs": [],
   "source": [
    "import pandas as pd\n"
   ]
  },
  {
   "cell_type": "code",
   "execution_count": 2,
   "metadata": {},
   "outputs": [
    {
     "name": "stdout",
     "output_type": "stream",
     "text": [
      "             user_id  item_id  \\\n",
      "0  76561197970982479     1250   \n",
      "1  76561197970982479    22200   \n",
      "2  76561197970982479    43110   \n",
      "3            js41637   251610   \n",
      "4            js41637   227300   \n",
      "\n",
      "                                           helpful  recommend  \\\n",
      "0                                   No ratings yet       True   \n",
      "1                                   No ratings yet       True   \n",
      "2                                   No ratings yet       True   \n",
      "3  15 of 20 people (75%) found this review helpful       True   \n",
      "4     0 of 1 people (0%) found this review helpful       True   \n",
      "\n",
      "                                              review  sentiment_analysis  \n",
      "0  Simple yet with great replayability. In my opi...                   2  \n",
      "1               It's unique and worth a playthrough.                   2  \n",
      "2  Great atmosphere. The gunplay can be a bit chu...                   2  \n",
      "3  I know what you think when you see this title ...                   2  \n",
      "4  For a simple (it's actually not all that simpl...                   2  \n"
     ]
    }
   ],
   "source": [
    "csv_file_path = r'C:\\Users\\user\\OneDrive\\Escritorio\\SOYHENRY\\Curso Data Science\\PI1\\dfreviews.csv'\n",
    "dfreviews = pd.read_csv(csv_file_path)\n",
    "print(dfreviews.head())"
   ]
  },
  {
   "cell_type": "code",
   "execution_count": 3,
   "metadata": {},
   "outputs": [
    {
     "name": "stdout",
     "output_type": "stream",
     "text": [
      "             user_id  item_id  \\\n",
      "0  76561197970982479     1250   \n",
      "1  76561197970982479    22200   \n",
      "2  76561197970982479    43110   \n",
      "3            js41637   251610   \n",
      "4            js41637   227300   \n",
      "\n",
      "                                           helpful  recommend  \\\n",
      "0                                   No ratings yet       True   \n",
      "1                                   No ratings yet       True   \n",
      "2                                   No ratings yet       True   \n",
      "3  15 of 20 people (75%) found this review helpful       True   \n",
      "4     0 of 1 people (0%) found this review helpful       True   \n",
      "\n",
      "                                              review  sentiment_analysis  \n",
      "0  Simple yet with great replayability. In my opi...                   2  \n",
      "1               It's unique and worth a playthrough.                   2  \n",
      "2  Great atmosphere. The gunplay can be a bit chu...                   2  \n",
      "3  I know what you think when you see this title ...                   2  \n",
      "4  For a simple (it's actually not all that simpl...                   2  \n"
     ]
    }
   ],
   "source": [
    "csv_file_path = r'C:\\Users\\user\\OneDrive\\Escritorio\\SOYHENRY\\Curso Data Science\\PI1\\dfreviews.csv'\n",
    "dfreviews = pd.read_csv(csv_file_path)\n",
    "print(dfreviews.head())"
   ]
  },
  {
   "cell_type": "code",
   "execution_count": 4,
   "metadata": {},
   "outputs": [
    {
     "name": "stdout",
     "output_type": "stream",
     "text": [
      "             publisher                                             genres  \\\n",
      "0            Kotoshiro  ['Action', 'Casual', 'Indie', 'Simulation', 'S...   \n",
      "1     Making Fun, Inc.       ['Free to Play', 'Indie', 'RPG', 'Strategy']   \n",
      "2         Poolians.com  ['Casual', 'Free to Play', 'Indie', 'Simulatio...   \n",
      "3                 彼岸领域                  ['Action', 'Adventure', 'Casual']   \n",
      "4  Trickjump Games Ltd              ['Action', 'Adventure', 'Simulation']   \n",
      "\n",
      "                     title release_date  \\\n",
      "0      Lost Summoner Kitty   2018-01-04   \n",
      "1                Ironbound   2018-01-04   \n",
      "2  Real Pool 3D - Poolians   2017-07-24   \n",
      "3                  弹炸人2222   2017-12-07   \n",
      "4    Battle Royale Trainer   2018-01-04   \n",
      "\n",
      "                                                tags  \\\n",
      "0  ['Strategy', 'Action', 'Indie', 'Casual', 'Sim...   \n",
      "1  ['Free to Play', 'Strategy', 'Indie', 'RPG', '...   \n",
      "2  ['Free to Play', 'Simulation', 'Sports', 'Casu...   \n",
      "3                  ['Action', 'Adventure', 'Casual']   \n",
      "4  ['Action', 'Adventure', 'Simulation', 'FPS', '...   \n",
      "\n",
      "                                               specs  price  early_access  \\\n",
      "0                                  ['Single-player']   4.99         False   \n",
      "1  ['Single-player', 'Multi-player', 'Online Mult...   0.00         False   \n",
      "2  ['Single-player', 'Multi-player', 'Online Mult...   0.00         False   \n",
      "3                                  ['Single-player']   0.99         False   \n",
      "4            ['Single-player', 'Steam Achievements']   3.99         False   \n",
      "\n",
      "         id            developer  year  \n",
      "0  761140.0            Kotoshiro  2018  \n",
      "1  643980.0     Secret Level SRL  2018  \n",
      "2  670290.0         Poolians.com  2017  \n",
      "3  767400.0                 彼岸领域  2017  \n",
      "4  772540.0  Trickjump Games Ltd  2018  \n"
     ]
    }
   ],
   "source": [
    "csv_file_path = r'C:\\Users\\user\\OneDrive\\Escritorio\\SOYHENRY\\Curso Data Science\\PI1\\dfgames.csv'\n",
    "dfgames = pd.read_csv(csv_file_path)\n",
    "print(dfgames.head())"
   ]
  },
  {
   "cell_type": "code",
   "execution_count": 5,
   "metadata": {},
   "outputs": [
    {
     "name": "stdout",
     "output_type": "stream",
     "text": [
      "             user_id  items_count           steam_id  item_id  \\\n",
      "0  76561197970982479          277  76561197970982479       10   \n",
      "1  76561197970982479          277  76561197970982479       20   \n",
      "2  76561197970982479          277  76561197970982479       30   \n",
      "3  76561197970982479          277  76561197970982479       40   \n",
      "4  76561197970982479          277  76561197970982479       50   \n",
      "\n",
      "                   item_name  playtime_forever  \n",
      "0             Counter-Strike               6.0  \n",
      "1      Team Fortress Classic               0.0  \n",
      "2              Day of Defeat               7.0  \n",
      "3         Deathmatch Classic               0.0  \n",
      "4  Half-Life: Opposing Force               0.0  \n"
     ]
    }
   ],
   "source": [
    "csv_file_path = r'C:\\Users\\user\\OneDrive\\Escritorio\\SOYHENRY\\Curso Data Science\\PI1\\dfitems.csv'\n",
    "dfitems = pd.read_csv(csv_file_path)\n",
    "print(dfitems.head())"
   ]
  },
  {
   "cell_type": "markdown",
   "metadata": {},
   "source": [
    "## Developer"
   ]
  },
  {
   "cell_type": "code",
   "execution_count": 6,
   "metadata": {},
   "outputs": [],
   "source": [
    "def developer(desarrollador):\n",
    "    # Copia del dataframe filtrando por el desarrollador\n",
    "    juegos_desarrollador = dfgames[dfgames['developer'] == desarrollador].copy()\n",
    "    \n",
    "    juegos_desarrollador['release_date'] = pd.to_datetime(juegos_desarrollador['release_date'], errors='coerce')\n",
    "    \n",
    "    if juegos_desarrollador['release_date'].dtype == 'datetime64[ns]':\n",
    "        # Buscar el año de la fecha del lanzamiento del juego\n",
    "        juegos_desarrollador['Año'] = juegos_desarrollador['release_date'].dt.year\n",
    "    \n",
    "    # Agrupar los juegos por año de lanzamiento\n",
    "    resumen_anual = juegos_desarrollador.groupby('Año').agg(\n",
    "        total_items =('id', 'count'),                      \n",
    "        free_items=('price', lambda x: (x == 0).sum())   \n",
    "    ).reset_index()\n",
    "\n",
    "    \n",
    "    # Calcular el porcentaje de juegos gratuitos por año\n",
    "    resumen_anual['free_percentage'] = (resumen_anual['free_items'] / resumen_anual['total_items']) * 100\n",
    "    \n",
    "    # Redondear el porcentaje a 2 decimales\n",
    "    resumen_anual['free_percentage'] = resumen_anual['free_percentage'].round(2)\n",
    "    \n",
    "    # Renombrar columnas para coincidir con la consigna\n",
    "    resumen_anual.columns = ['Año', 'Cantidad de Items', 'Items Gratuitos', 'Porcentaje Gratuito']\n",
    "    \n",
    "    # Devolver solo las columnas seleccionadas\n",
    "    return resumen_anual[['Año', 'Cantidad de Items', 'Porcentaje Gratuito']]\n",
    "    \n",
    "    return resumen_anual\n"
   ]
  },
  {
   "cell_type": "markdown",
   "metadata": {},
   "source": [
    "## User Data"
   ]
  },
  {
   "cell_type": "code",
   "execution_count": 7,
   "metadata": {},
   "outputs": [],
   "source": [
    "def user_data(user_id: str):\n",
    "    # Unir df necesarios\n",
    "    merged_df = pd.merge(dfreviews[['user_id','item_id','recommend']], dfgames[['id', 'price']], left_on='item_id', right_on='id', how='left')\n",
    "\n",
    "    # Filtrar por el user_id específico\n",
    "    user_datas = merged_df[merged_df['user_id'] == user_id]\n",
    "\n",
    "    if user_datas.empty:\n",
    "        return f\"No se encontraron datos para el usuario con ID: {user_id}\"\n",
    "\n",
    "    # Calcular el total gastado por el usuario\n",
    "    total_spent = user_datas['price'].sum()\n",
    "\n",
    "    # Calcular la cantidad de ítems comprados por el usuario\n",
    "    item_count = user_datas['item_id'].count()\n",
    "\n",
    "    # Calcular el porcentaje de recomendaciones\n",
    "    total_recommendations = user_datas['recommend'].count()\n",
    "    positive_recommendations = user_datas['recommend'].sum()  # Asumiendo que 'recommend' es True o False\n",
    "\n",
    "    recommend_percentage = (positive_recommendations / total_recommendations * 100) if total_recommendations > 0 else 0\n",
    "\n",
    "    # Crear un diccionario con los resultados\n",
    "    results = {\n",
    "        \"Usuario X\": user_id,\n",
    "        \"Dinero Gastado\": float(total_spent),\n",
    "        \"% de recomendacion\": float(round(recommend_percentage, 2)),\n",
    "        \"Cantidad de items\": int(item_count)\n",
    "    }\n",
    "\n",
    "\n",
    "\n",
    "    return results\n",
    "\n"
   ]
  },
  {
   "cell_type": "code",
   "execution_count": 8,
   "metadata": {},
   "outputs": [
    {
     "data": {
      "text/plain": [
       "{'Usuario X': 'evcentric',\n",
       " 'Dinero Gastado': 68.94,\n",
       " '% de recomendacion': 100.0,\n",
       " 'Cantidad de items': 6}"
      ]
     },
     "execution_count": 8,
     "metadata": {},
     "output_type": "execute_result"
    }
   ],
   "source": [
    "user_data('evcentric')"
   ]
  },
  {
   "cell_type": "markdown",
   "metadata": {},
   "source": [
    "## User For Genre"
   ]
  },
  {
   "cell_type": "code",
   "execution_count": 9,
   "metadata": {},
   "outputs": [],
   "source": [
    "def UserForGenre(genero: str):\n",
    "    # Hacer merge de los DataFrames en función de 'item_id' y 'user_id'\n",
    "    merged_df_ufg = pd.merge(dfitems[['item_id','user_id','playtime_forever']], dfgames[['id', 'genres', 'year']], \n",
    "                              left_on='item_id', right_on='id', how='left')\n",
    "\n",
    "    # Filtrar por el género específico\n",
    "    genre_data = merged_df_ufg[merged_df_ufg['genres'].str.contains(genero, case=False, na=False)].copy()  # Usar .copy() para evitar advertencias\n",
    "\n",
    "    if genre_data.empty:\n",
    "        return f\"No se encontraron datos para el género especificado: {genero}\"\n",
    "\n",
    "    # Convertir 'playtime_forever' a numérico\n",
    "    genre_data['playtime_forever'] = pd.to_numeric(genre_data['playtime_forever'], errors='coerce')\n",
    "\n",
    "    # Agrupar por usuario y año, sumando las horas jugadas\n",
    "    df_agrupado = genre_data.groupby(['user_id', 'year'])['playtime_forever'].sum().reset_index()\n",
    "\n",
    "    # Encontrar el usuario con más horas jugadas en total\n",
    "    horas_por_usuario = df_agrupado.groupby('user_id')['playtime_forever'].sum().reset_index()\n",
    "    usuario_max = horas_por_usuario.loc[horas_por_usuario['playtime_forever'].idxmax()]\n",
    "\n",
    "    \n",
    "    horas_por_ano_usuario = df_agrupado[df_agrupado['user_id'] == usuario_max['user_id']]\n",
    "\n",
    "    \n",
    "    resultado = {\n",
    "        \"Usuario con más horas jugadas para el género\": usuario_max['user_id'],\n",
    "        \"Horas jugadas\": [{\"Año\": int(row['year']), \"Horas\": row['playtime_forever'] / 60} for _, row in horas_por_ano_usuario.iterrows()]  # Convertir minutos a horas\n",
    "    }\n",
    "\n",
    "    return resultado\n"
   ]
  },
  {
   "cell_type": "markdown",
   "metadata": {},
   "source": [
    "## Best_developer_year"
   ]
  },
  {
   "cell_type": "code",
   "execution_count": 10,
   "metadata": {},
   "outputs": [
    {
     "data": {
      "text/plain": [
       "Index(['user_id', 'item_id', 'helpful', 'recommend', 'review',\n",
       "       'sentiment_analysis'],\n",
       "      dtype='object')"
      ]
     },
     "execution_count": 10,
     "metadata": {},
     "output_type": "execute_result"
    }
   ],
   "source": [
    "dfreviews.columns"
   ]
  },
  {
   "cell_type": "code",
   "execution_count": 1,
   "metadata": {},
   "outputs": [],
   "source": [
    "def best_developer_year( año : int ):\n",
    "\n",
    "    # Dataframe necesario\n",
    "    merged_df_dev = pd.merge(dfreviews[['user_id','item_id','recommend','sentiment_analysis']],\n",
    "                             dfgames[['id', 'developer', 'year']], left_on='item_id', right_on='id', how='left')\n",
    "\n",
    "\n",
    "   # Filtrar por el año específico\n",
    "    year_data = merged_df_dev[merged_df_dev['year'] == año].copy()\n",
    "        \n",
    "    # Filtrar los usuarios que han recomendado y tienen un análisis de sentimiento de 2\n",
    "    filtered_df = year_data[(year_data['recommend'] == True) & (year_data['sentiment_analysis'] == 2)]\n",
    "\n",
    "    if year_data.empty:\n",
    "        return f\"No se encontraron datos para el año especificado: {año}\"\n",
    "    \n",
    "    # Contar las recomendaciones por desarrollador\n",
    "    developer_counts = filtered_df['developer'].value_counts().reset_index()\n",
    "    developer_counts.columns = ['developer', 'recommendation_count']\n",
    "\n",
    "    # Obtener el top 3 de desarrolladores con más recomendaciones\n",
    "    top_developers = developer_counts.head(3)\n",
    "\n",
    "    # Formatear el resultado en el formato deseado\n",
    "    resultado = []\n",
    "    for index, row in top_developers.iterrows():\n",
    "        puesto = {\"Puesto {}\".format(index + 1): row['developer']}\n",
    "        resultado.append(puesto)\n",
    "\n",
    "    return resultado\n",
    "\n",
    "    \n"
   ]
  },
  {
   "cell_type": "code",
   "execution_count": 15,
   "metadata": {},
   "outputs": [
    {
     "data": {
      "text/plain": [
       "[{'Puesto 1': 'Facepunch Studios'},\n",
       " {'Puesto 2': 'Nabi Studios'},\n",
       " {'Puesto 3': 'Relic Entertainment'}]"
      ]
     },
     "execution_count": 15,
     "metadata": {},
     "output_type": "execute_result"
    }
   ],
   "source": [
    "best_developer_year(2006)"
   ]
  },
  {
   "cell_type": "markdown",
   "metadata": {},
   "source": [
    "## Developer_review_analysis"
   ]
  },
  {
   "cell_type": "code",
   "execution_count": 13,
   "metadata": {},
   "outputs": [],
   "source": [
    "def developer_reviews_analysis(desarrolladora : str):\n",
    "    merged_df_dev2 = pd.merge(dfreviews[['item_id','sentiment_analysis']], dfgames[['id', 'developer']], left_on='item_id', right_on='id', how='left')\n",
    "\n",
    "   # Filtrar por el año específico\n",
    "    desarrollador_data = merged_df_dev2[merged_df_dev2['developer'] == desarrolladora].copy()\n",
    "\n",
    "    if desarrollador_data.empty:\n",
    "        return {desarrolladora: [0, 0]}  # No hay reseñas\n",
    "\n",
    "    # Contar la cantidad de reseñas positivas y negativas\n",
    "    positive_count = (desarrollador_data['sentiment_analysis'] == 2).sum()\n",
    "    negative_count = (desarrollador_data['sentiment_analysis'] == 0).sum()\n",
    "\n",
    "    # Crear el diccionario con los resultados\n",
    "    resultado = {\n",
    "        desarrolladora: {\n",
    "            'Negative': int(negative_count),\n",
    "            'Positive': int(positive_count)\n",
    "        }\n",
    "    }\n",
    "\n",
    "    return resultado\n",
    "\n",
    "    "
   ]
  },
  {
   "cell_type": "code",
   "execution_count": null,
   "metadata": {},
   "outputs": [],
   "source": []
  }
 ],
 "metadata": {
  "kernelspec": {
   "display_name": "Python 3",
   "language": "python",
   "name": "python3"
  },
  "language_info": {
   "codemirror_mode": {
    "name": "ipython",
    "version": 3
   },
   "file_extension": ".py",
   "mimetype": "text/x-python",
   "name": "python",
   "nbconvert_exporter": "python",
   "pygments_lexer": "ipython3",
   "version": "3.10.11"
  }
 },
 "nbformat": 4,
 "nbformat_minor": 2
}
